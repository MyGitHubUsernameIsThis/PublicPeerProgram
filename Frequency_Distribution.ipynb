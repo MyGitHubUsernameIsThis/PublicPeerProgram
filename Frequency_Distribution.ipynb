{
 "cells": [
  {
   "cell_type": "code",
   "execution_count": 16,
   "metadata": {},
   "outputs": [
    {
     "name": "stdout",
     "output_type": "stream",
     "text": [
      " : 26\n",
      "Night (8:00 PM to 12:00 AM) : 4\n",
      "Late Night (12:00 AM to 3:00 AM) : 2\n",
      "None : 11\n",
      "Evening (5:00 PM to 8:00 PM) : 3\n",
      "other : 2\n",
      "24-hours : 1\n"
     ]
    }
   ],
   "source": [
    "'''\n",
    "This code works by taking the names of columns in the data set and then \n",
    "'''\n",
    "\n",
    "\n",
    "'''\n",
    "In this section, we are importing all of the functions that we will use later on. \n",
    "'''\n",
    "import sys\n",
    "import csv\n",
    "from os import path\n",
    "#import pandas as pd\n",
    "import re\n",
    "import pandas as pd\n",
    "import numpy as np\n",
    "from os import path as fp\n",
    "\n",
    "\n",
    "'''\n",
    "The three lines below locate the path of the data file. As a part of finding the path, I assume\n",
    "that the name of the data file is \"3.16 updatedData.csv\". If the data file is anything else,\n",
    "then one would have to change the 'dataFileName' file\n",
    "'''\n",
    "dataFileName = '3.16 updatedData.csv'\n",
    "current_directory = fp.abspath('')\n",
    "dataPath = fp.join(fp.dirname(current_directory),'freqDist','data', dataFileName)\n",
    "\n",
    "\n",
    "targetCol = 'targetpop'\n",
    "targetCol = 'hrs_sun'\n",
    "freq = {}\n",
    "rowsToSkip = 2 #Some of the data is part of the header. This should remove that issue. \n",
    "#field_names = ['Hours', 'Frequency']\n",
    "\n",
    "\n",
    "'''\n",
    "Below, I define a function that I use for finding the frequency of different choices in the data\n",
    "csv. It works by skipping the first couple of lines where there is no important data. Then, it \n",
    "splits the text in each cell along the commas (assuming the commas are NOT in between\n",
    "parenthesis). Finally it add each of the values that it finds to a dictionary where the \n",
    "keys are the responses and the values are the numbers of times each of the responses came up.\n",
    "'''\n",
    "def searcher(searchTerm):\n",
    "    lineNum = 0\n",
    "    freqList = {}\n",
    "    with open(dataPath) as file:\n",
    "        reader = csv.DictReader(file)\n",
    "        for row in reader:\n",
    "            #print(row[targetCol])\n",
    "            if lineNum < rowsToSkip:\n",
    "                ##print(row[targetCol])s\n",
    "                lineNum += 1\n",
    "                continue\n",
    "            targetRow = row[searchTerm]\n",
    "            newText = re.split(r',(?!\\ )', targetRow)\n",
    "            for cond in newText:\n",
    "                #print(\"Start!\",  targetRow, newText, 'End')\n",
    "                if cond in row[searchTerm]:\n",
    "                    if (cond in freqList):\n",
    "                        #print(row)\n",
    "                        freqList[cond] += 1\n",
    "                    else:\n",
    "                        freqList[cond] = 1\n",
    "        return freqList\n",
    "    \n",
    "freq = searcher('hrs_sun')\n",
    "# print(freqList)\n",
    "\n",
    "# print(freqList.keys())\n",
    "# print(len(freqList.keys()))\n",
    "for key in freq:\n",
    "    print(key, \":\" , freq.get(key, 'Odd Issue'))"
   ]
  },
  {
   "cell_type": "code",
   "execution_count": 15,
   "metadata": {},
   "outputs": [
    {
     "name": "stdout",
     "output_type": "stream",
     "text": [
      "Graduate students : 13\n",
      "Undergraduate students : 34\n",
      "Other : 6\n",
      "Professional students : 5\n",
      " : 9\n"
     ]
    }
   ],
   "source": [
    "'''\n",
    "Here is an example of how to use the function. In our CSV there is a column named \"targetpop\"\n",
    "(reference codebook for defintion). After running the code, you can see the output below\n",
    "'''\n",
    "\n",
    "freqDist = {}\n",
    "freqDist = searcher('targetpop')\n",
    "for key in freqDist:\n",
    "    print(key, \":\" , freqDist.get(key, 'Odd Issue'))\n"
   ]
  },
  {
   "cell_type": "code",
   "execution_count": null,
   "metadata": {},
   "outputs": [],
   "source": []
  }
 ],
 "metadata": {
  "kernelspec": {
   "display_name": "Python 3",
   "language": "python",
   "name": "python3"
  },
  "language_info": {
   "codemirror_mode": {
    "name": "ipython",
    "version": 3
   },
   "file_extension": ".py",
   "mimetype": "text/x-python",
   "name": "python",
   "nbconvert_exporter": "python",
   "pygments_lexer": "ipython3",
   "version": "3.7.4"
  }
 },
 "nbformat": 4,
 "nbformat_minor": 2
}
